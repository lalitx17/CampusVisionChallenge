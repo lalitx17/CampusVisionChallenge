{
 "cells": [
  {
   "cell_type": "code",
   "execution_count": 1,
   "id": "b8c5c334-cdfa-4ad8-9714-4ed4e688f1d7",
   "metadata": {},
   "outputs": [],
   "source": [
    "import torch\n",
    "import torch.nn as nn\n",
    "import torch.optim as optim\n",
    "from torch.utils.data import DataLoader, random_split\n",
    "import torchvision.transforms as transforms\n",
    "import torchvision.datasets as datasets\n",
    "import torchvision.models as models\n",
    "import numpy as np\n",
    "import os"
   ]
  },
  {
   "cell_type": "code",
   "execution_count": 2,
   "id": "b08cf615-12a3-48d4-99df-6c4d7587d500",
   "metadata": {},
   "outputs": [],
   "source": [
    "def get_data_transforms():\n",
    "    data_transforms = {\n",
    "        'train': transforms.Compose([\n",
    "            transforms.RandomResizedCrop(512),\n",
    "            transforms.RandomHorizontalFlip(),\n",
    "            transforms.ToTensor(),\n",
    "            transforms.Normalize(mean=[0.46079967214138484, 0.46104556926356555, 0.4559120253283609], std=[0.23117445026151823, 0.22748220382304327, 0.2637965208115187])\n",
    "        ]),\n",
    "        'val': transforms.Compose([\n",
    "            transforms.Resize(512),\n",
    "            transforms.CenterCrop(512),\n",
    "            transforms.ToTensor(),\n",
    "            transforms.Normalize(mean=[0.46079967214138484, 0.46104556926356555, 0.4559120253283609], std=[0.23117445026151823, 0.22748220382304327, 0.2637965208115187])\n",
    "        ]),\n",
    "    }\n",
    "    return data_transforms"
   ]
  },
  {
   "cell_type": "code",
   "execution_count": 3,
   "id": "cff5f81d-df45-4736-a16e-d2fbd25729ca",
   "metadata": {},
   "outputs": [],
   "source": [
    "def load_data(data_dir, batch_size=32, use_fixed_training_set=False, training_set_size=5):\n",
    "    data_transforms = get_data_transforms()\n",
    "    image_dataset = datasets.ImageFolder(data_dir, data_transforms['train'])\n",
    "\n",
    "    if use_fixed_training_set:\n",
    "        # Use a fixed-size training set (e.g., 50 data points)\n",
    "        train_size = training_set_size\n",
    "        val_size = len(image_dataset) - train_size\n",
    "        train_dataset, val_dataset = random_split(image_dataset, [train_size, val_size])\n",
    "    else:\n",
    "        # Split the data into training and validation sets\n",
    "        train_size = int(0.8 * len(image_dataset))\n",
    "        val_size = len(image_dataset) - train_size\n",
    "        train_dataset, val_dataset = random_split(image_dataset, [train_size, val_size])\n",
    "\n",
    "    dataloaders = {\n",
    "        'train': DataLoader(train_dataset, batch_size=batch_size, shuffle=True, num_workers=4),\n",
    "        'val': DataLoader(val_dataset, batch_size=batch_size, shuffle=False, num_workers=4)\n",
    "    }\n",
    "\n",
    "    dataset_sizes = {\n",
    "        'train': len(train_dataset),\n",
    "        'val': len(val_dataset)\n",
    "    }\n",
    "\n",
    "    class_names = image_dataset.classes\n",
    "\n",
    "    return dataloaders, dataset_sizes, class_names\n"
   ]
  },
  {
   "cell_type": "code",
   "execution_count": 4,
   "id": "963b0062-f3ae-4f57-b11e-0f52685d93f2",
   "metadata": {},
   "outputs": [],
   "source": [
    "def create_model(num_classes):\n",
    "    # Load a pre-trained ResNet18 model\n",
    "    model = models.resnet18(pretrained=True)\n",
    "\n",
    "    # Get the input dimensions of the last layer (fully connected layer)\n",
    "    num_ftrs = model.fc.in_features\n",
    "\n",
    "    # Replace the last layer with a new one that has `num_classes` outputs\n",
    "    model.fc = nn.Linear(num_ftrs, num_classes)\n",
    "\n",
    "    return model"
   ]
  },
  {
   "cell_type": "code",
   "execution_count": 5,
   "id": "394b0c29-d59b-4ce5-89ec-d3379d20af77",
   "metadata": {},
   "outputs": [],
   "source": [
    "def train_model(model, dataloaders, criterion, optimizer, num_epochs=10):\n",
    "    best_model_wts = model.state_dict()\n",
    "    best_acc = 0.0\n",
    "\n",
    "    for epoch in range(num_epochs):\n",
    "        print(f'Epoch {epoch}/{num_epochs - 1}')\n",
    "        print('-' * 10)\n",
    "\n",
    "        for phase in ['train', 'val']:\n",
    "            if phase == 'train':\n",
    "                model.train()\n",
    "            else:\n",
    "                model.eval()\n",
    "\n",
    "            running_loss = 0.0\n",
    "            running_corrects = 0\n",
    "\n",
    "            for inputs, labels in dataloaders[phase]:\n",
    "                inputs, labels = inputs.to(device), labels.to(device)\n",
    "\n",
    "                optimizer.zero_grad()\n",
    "\n",
    "                with torch.set_grad_enabled(phase == 'train'):\n",
    "                    outputs = model(inputs)\n",
    "                    _, preds = torch.max(outputs, 1)\n",
    "                    loss = criterion(outputs, labels)\n",
    "\n",
    "                    if phase == 'train':\n",
    "                        loss.backward()\n",
    "                        optimizer.step()\n",
    "\n",
    "                running_loss += loss.item() * inputs.size(0)\n",
    "                running_corrects += torch.sum(preds == labels.data)\n",
    "\n",
    "            epoch_loss = running_loss / dataset_sizes[phase]\n",
    "            epoch_acc = running_corrects.double() / dataset_sizes[phase]\n",
    "\n",
    "            print(f'{phase} Loss: {epoch_loss:.4f} Acc: {epoch_acc:.4f}')\n",
    "\n",
    "            if phase == 'val' and epoch_acc > best_acc:\n",
    "                best_acc = epoch_acc\n",
    "                best_model_wts = model.state_dict()\n",
    "\n",
    "    print(f'Best val Acc: {best_acc:.4f}')\n",
    "\n",
    "    model.load_state_dict(best_model_wts)\n",
    "    return model\n"
   ]
  },
  {
   "cell_type": "code",
   "execution_count": null,
   "id": "efd4e56c-78e5-44a6-a1e7-87111b72d977",
   "metadata": {},
   "outputs": [
    {
     "name": "stderr",
     "output_type": "stream",
     "text": [
      "/home/lalit/.local/lib/python3.12/site-packages/torchvision/models/_utils.py:208: UserWarning: The parameter 'pretrained' is deprecated since 0.13 and may be removed in the future, please use 'weights' instead.\n",
      "  warnings.warn(\n",
      "/home/lalit/.local/lib/python3.12/site-packages/torchvision/models/_utils.py:223: UserWarning: Arguments other than a weight enum or `None` for 'weights' are deprecated since 0.13 and may be removed in the future. The current behavior is equivalent to passing `weights=ResNet18_Weights.IMAGENET1K_V1`. You can also use `weights=ResNet18_Weights.DEFAULT` to get the most up-to-date weights.\n",
      "  warnings.warn(msg)\n"
     ]
    },
    {
     "name": "stdout",
     "output_type": "stream",
     "text": [
      "Epoch 0/9\n",
      "----------\n",
      "train Loss: 2.3770 Acc: 0.0000\n"
     ]
    }
   ],
   "source": [
    "\n",
    "if __name__ == \"__main__\":\n",
    "    data_dir = \"campusVision\"\n",
    "    \n",
    "    # Use a fixed training set size of 50 data points\n",
    "    dataloaders, dataset_sizes, class_names = load_data(data_dir, use_fixed_training_set=True, training_set_size=5)\n",
    "\n",
    "    # Or, split the data into 80% training and 20% validation\n",
    "    # dataloaders, dataset_sizes, class_names = load_data(data_dir, use_fixed_training_set=False)\n",
    "\n",
    "    device = torch.device(\"cuda:0\" if torch.cuda.is_available() else \"cpu\")\n",
    "    model = create_model(num_classes=len(class_names))\n",
    "    model = model.to(device)\n",
    "\n",
    "    criterion = nn.CrossEntropyLoss()\n",
    "    optimizer = optim.SGD(model.parameters(), lr=0.001, momentum=0.9)\n",
    "\n",
    "    # Train the model\n",
    "    model = train_model(model, dataloaders, criterion, optimizer, num_epochs=10)\n",
    "\n",
    "    # Evaluate the model on the validation set\n",
    "    print(\"Validation Set Performance:\")\n",
    "    evaluate_model(model, dataloaders['val'], criterion, class_names)\n",
    "\n",
    "    # Save the best model\n",
    "    torch.save(model.state_dict(), \"/home/lalit/Projects/campusVisionChallenge/resnet-pretrained.pth\")"
   ]
  }
 ],
 "metadata": {
  "kernelspec": {
   "display_name": "Python 3 (ipykernel)",
   "language": "python",
   "name": "python3"
  },
  "language_info": {
   "codemirror_mode": {
    "name": "ipython",
    "version": 3
   },
   "file_extension": ".py",
   "mimetype": "text/x-python",
   "name": "python",
   "nbconvert_exporter": "python",
   "pygments_lexer": "ipython3",
   "version": "3.12.7"
  }
 },
 "nbformat": 4,
 "nbformat_minor": 5
}
